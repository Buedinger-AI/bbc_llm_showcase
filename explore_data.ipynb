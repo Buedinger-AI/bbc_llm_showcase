{
 "cells": [
  {
   "cell_type": "code",
   "execution_count": 5,
   "metadata": {},
   "outputs": [
    {
     "data": {
      "text/html": [
       "<div>\n",
       "<style scoped>\n",
       "    .dataframe tbody tr th:only-of-type {\n",
       "        vertical-align: middle;\n",
       "    }\n",
       "\n",
       "    .dataframe tbody tr th {\n",
       "        vertical-align: top;\n",
       "    }\n",
       "\n",
       "    .dataframe thead th {\n",
       "        text-align: right;\n",
       "    }\n",
       "</style>\n",
       "<table border=\"1\" class=\"dataframe\">\n",
       "  <thead>\n",
       "    <tr style=\"text-align: right;\">\n",
       "      <th></th>\n",
       "      <th>Unnamed: 0</th>\n",
       "      <th>headline</th>\n",
       "      <th>content</th>\n",
       "      <th>timestamp</th>\n",
       "      <th>url</th>\n",
       "      <th>author</th>\n",
       "      <th>publication_date</th>\n",
       "      <th>section</th>\n",
       "    </tr>\n",
       "  </thead>\n",
       "  <tbody>\n",
       "    <tr>\n",
       "      <th>0</th>\n",
       "      <td>0</td>\n",
       "      <td>Biden says he 'screwed up' debate but vows to ...</td>\n",
       "      <td>US President Joe Biden has admitted he \"screwe...</td>\n",
       "      <td>2024-07-04 12:44:08</td>\n",
       "      <td>https://www.bbc.com/news/articles/crgrwgnvqgvo</td>\n",
       "      <td>Gareth Evans, Courtney Subramanian and Kayla E...</td>\n",
       "      <td>2024-07-04 11:53:08</td>\n",
       "      <td>Unknown</td>\n",
       "    </tr>\n",
       "    <tr>\n",
       "      <th>1</th>\n",
       "      <td>1</td>\n",
       "      <td>Hamas faces growing public dissent as Gaza war...</td>\n",
       "      <td>The man in the video is beside himself, a mask...</td>\n",
       "      <td>2024-07-04 12:44:08</td>\n",
       "      <td>https://www.bbc.com/news/articles/c0vewvp14zdo</td>\n",
       "      <td>Lucy Williamson &amp; Rushdi Aboualouf,</td>\n",
       "      <td>2024-07-04 01:44:08</td>\n",
       "      <td>Unknown</td>\n",
       "    </tr>\n",
       "    <tr>\n",
       "      <th>2</th>\n",
       "      <td>2</td>\n",
       "      <td>Many Jamaicans without power after Hurricane B...</td>\n",
       "      <td>Hundreds of thousands of homes in Jamaica are ...</td>\n",
       "      <td>2024-07-04 12:44:08</td>\n",
       "      <td>https://www.bbc.com/news/articles/ckdg7rp7vk9o</td>\n",
       "      <td>Nick Davis,</td>\n",
       "      <td>2024-07-04 12:09:08</td>\n",
       "      <td>Unknown</td>\n",
       "    </tr>\n",
       "    <tr>\n",
       "      <th>3</th>\n",
       "      <td>3</td>\n",
       "      <td>India preacher denies blame for crush deaths</td>\n",
       "      <td>The preacher who led an overcrowded gathering ...</td>\n",
       "      <td>2024-07-04 12:44:08</td>\n",
       "      <td>https://www.bbc.com/news/articles/c2lk5q27jd4o</td>\n",
       "      <td>Anbarasan Ethirajan,</td>\n",
       "      <td>2024-07-04 11:44:08</td>\n",
       "      <td>Unknown</td>\n",
       "    </tr>\n",
       "    <tr>\n",
       "      <th>4</th>\n",
       "      <td>4</td>\n",
       "      <td>An iconic wildlife park has banned koala cuddl...</td>\n",
       "      <td>For what seems like time immemorial, giving a ...</td>\n",
       "      <td>2024-07-04 12:44:08</td>\n",
       "      <td>https://www.bbc.com/news/articles/c3ge1vn783eo</td>\n",
       "      <td>Tiffanie Turnbull,</td>\n",
       "      <td>2024-07-04 10:44:08</td>\n",
       "      <td>Unknown</td>\n",
       "    </tr>\n",
       "  </tbody>\n",
       "</table>\n",
       "</div>"
      ],
      "text/plain": [
       "   Unnamed: 0                                           headline  \\\n",
       "0           0  Biden says he 'screwed up' debate but vows to ...   \n",
       "1           1  Hamas faces growing public dissent as Gaza war...   \n",
       "2           2  Many Jamaicans without power after Hurricane B...   \n",
       "3           3       India preacher denies blame for crush deaths   \n",
       "4           4  An iconic wildlife park has banned koala cuddl...   \n",
       "\n",
       "                                             content            timestamp  \\\n",
       "0  US President Joe Biden has admitted he \"screwe...  2024-07-04 12:44:08   \n",
       "1  The man in the video is beside himself, a mask...  2024-07-04 12:44:08   \n",
       "2  Hundreds of thousands of homes in Jamaica are ...  2024-07-04 12:44:08   \n",
       "3  The preacher who led an overcrowded gathering ...  2024-07-04 12:44:08   \n",
       "4  For what seems like time immemorial, giving a ...  2024-07-04 12:44:08   \n",
       "\n",
       "                                              url  \\\n",
       "0  https://www.bbc.com/news/articles/crgrwgnvqgvo   \n",
       "1  https://www.bbc.com/news/articles/c0vewvp14zdo   \n",
       "2  https://www.bbc.com/news/articles/ckdg7rp7vk9o   \n",
       "3  https://www.bbc.com/news/articles/c2lk5q27jd4o   \n",
       "4  https://www.bbc.com/news/articles/c3ge1vn783eo   \n",
       "\n",
       "                                              author     publication_date  \\\n",
       "0  Gareth Evans, Courtney Subramanian and Kayla E...  2024-07-04 11:53:08   \n",
       "1                Lucy Williamson & Rushdi Aboualouf,  2024-07-04 01:44:08   \n",
       "2                                        Nick Davis,  2024-07-04 12:09:08   \n",
       "3                               Anbarasan Ethirajan,  2024-07-04 11:44:08   \n",
       "4                                 Tiffanie Turnbull,  2024-07-04 10:44:08   \n",
       "\n",
       "   section  \n",
       "0  Unknown  \n",
       "1  Unknown  \n",
       "2  Unknown  \n",
       "3  Unknown  \n",
       "4  Unknown  "
      ]
     },
     "execution_count": 5,
     "metadata": {},
     "output_type": "execute_result"
    }
   ],
   "source": [
    "import pandas as pd\n",
    "\n",
    "df = pd.read_csv(\"articles.csv\")\n",
    "df.head()"
   ]
  },
  {
   "cell_type": "code",
   "execution_count": 7,
   "metadata": {},
   "outputs": [],
   "source": [
    "df = df.drop_duplicates(subset=['headline'], keep='first').drop(columns=['Unnamed: 0'])\n"
   ]
  },
  {
   "cell_type": "code",
   "execution_count": 57,
   "metadata": {},
   "outputs": [
    {
     "data": {
      "text/plain": [
       "0      US President Joe Biden has admitted he \"screwe...\n",
       "1      The man in the video is beside himself, a mask...\n",
       "2      Hundreds of thousands of homes in Jamaica are ...\n",
       "3      The preacher who led an overcrowded gathering ...\n",
       "4      For what seems like time immemorial, giving a ...\n",
       "                             ...                        \n",
       "227    Mark Cavendish had planned for last year's Tou...\n",
       "244    Tens of thousands of people in northern Califo...\n",
       "250    In September 2023, Simon Boas was diagnosed wi...\n",
       "304    Serious concerns over the hospital care of for...\n",
       "323    Boulter v Dart Johanna KontaFormer British num...\n",
       "Name: clean_content, Length: 68, dtype: object"
      ]
     },
     "execution_count": 57,
     "metadata": {},
     "output_type": "execute_result"
    }
   ],
   "source": [
    "import re\n",
    "import pandas as pd\n",
    "\n",
    "def clean_and_summarize_article(row):\n",
    "    content = row['content']\n",
    "    \n",
    "    # Entferne unnötige Zeichen und Sonderzeiche\n",
    "    content = re.sub(r'\\s+', ' ', content)  # Entferne überflüssige Leerzeichen\n",
    "    content = re.sub(r'\\s([?.!\"](?:\\s|$))', r'\\1', content)  # Entferne Leerzeichen vor Satzzeichen\n",
    "\n",
    "    content = content.replace('\\\\', '')  \n",
    "    return content\n",
    "\n",
    "df['clean_content'] = df.apply(clean_and_summarize_article, axis=1)\n",
    "df[\"clean_content\"]\n"
   ]
  },
  {
   "cell_type": "code",
   "execution_count": 58,
   "metadata": {},
   "outputs": [
    {
     "data": {
      "text/plain": [
       "'US President Joe Biden has admitted he \"screwed up\" in last week\\'s debate against Donald Trump, but has vowed to fight on in the election race and moved to reassure key allies. He told a Wisconsin radio station he made a \"mistake\" with his stumbling performance, but urged voters to instead judge him on his time in the White House. On Wednesday, as reports suggested he was weighing his future, he worked to calm senior Democrats including state governors and campaign staff. “I\\'m the nominee of the Democratic Party. No one\\'s pushing me out. I\\'m not leaving,\" he said in a call to the broader campaign, a source told BBC News. Mr Biden was joined on the call by Vice-President Kamala Harris, who reiterated her support. Speculation has mounted over whether she could replace the president as the party’s candidate ahead of the November election. A fundraising email sent after the call by the Biden-Harris campaign was also bullish. “Let me say this as clearly and simply as I can: I\\'m running,” Mr Biden said. Questions have been swirling around whether the 81-year-old will continue with his campaign following a debate marked by verbal blanks and a weak voice. It sparked concern in Democratic circles around his fitness for office and his ability to win the election. Pressure on Mr Biden to drop out has only grown as more polls suggest his Republican rival’s lead has widened. A New York Times poll conducted after the debate, which was published on Wednesday, suggested Trump was now holding his biggest lead yet at six points. And a separate poll published by the BBC’s US partner CBS News suggested Trump has a three-point lead over Mr Biden in the crucial battleground states. The damaging polling for Mr Biden has been compounded by some Democratic donors and lawmakers publicly calling on the president to stand aside. Among them are Ramesh Kapur, an Indian-American industrialist based in Massachusetts, who has organised fundraisers for Democrats since 1988. “I think it’s time for him to pass the torch,” Mr Kapur told the BBC. “I know he has the drive, but you can’t fight Mother Nature.” And two Democrats in Congress also called for a change at the top of the party’s ticket. The second, Representative Raul Grijalva of Arizona, told the New York Times it was time for Democrats to “look elsewhere”. Despite this, the White House and the Biden campaign have vehemently denied reports he is actively weighing his future and say he is committed to defeating Trump for a second time on 5 November. The New York Times and CNN reported on Wednesday that Mr Biden had told an unnamed ally he was aware his re-election bid was in danger. His forthcoming appearances - including an ABC News interview and a Friday rally in Wisconsin - were hugely important to his campaign, he reportedly said. A spokesperson rejected the reports as “absolutely false”, shortly before White House Press Secretary Karine Jean-Pierre said reports that he may drop out were untrue. Among the senior Democrats Mr Biden met on Wednesday was a group of 20 state governors from around the country, including California’s Gavin Newsom and Michigan’s Gretchen Whitmer. Both have been tipped as potential replacements if Mr Biden were to stand aside. \"The president has always had our backs, we’re going to have his back as well,\" Maryland Governor Wes Moore told reporters after the meeting. But Ms Harris is still considered the most likely replacement. The 59-year-old has been hampered by poor approval ratings, but her support has increased among Democrats since the Biden-Trump debate. Amid the speculation, comments made by Trump indicated he could be switching his attention to attacking Ms Harris. In footage obtained by the Daily Beast - and shared online by Trump himself - he can be seen in a golf cart pouring scorn on Mr Biden, whom he describes as \"broken down\". He suggests that Ms Harris would be \"better\", though still \"pathetic\". The vice-president gave an immediate interview on CNN after the debate, projecting calm as she expressed full support for the president. A source close to Ms Harris told BBC News she would continue to hit the road on behalf of the campaign. Members of the Democratic National Committee are charged with voting to officially make President Biden the party’s nominee at the August convention, putting him on the ballot nationwide. One member, who has spoken to other delegates and requested anonymity to speak frankly about sensitive discussions, told the BBC that the nomination should go to Vice-President Harris if Mr Biden opted not to run. “If we open up the convention, it will cause pure chaos that will hurt us in November,\" they said. A report by the Washington Post, meanwhile, said Mr Biden and his team recognised that he must demonstrate his fitness for office in the coming days. He has planned trips to Wisconsin and Philadelphia later in the week, and is due to appear on ABC News on Friday for his first televised interview since the debate. His full interview with Wisconsin\\'s Civic Media is also due to be published on Thursday. While acknowledging that he had \"screwed up\" with his performance, he told the station: \"That\\'s 90 minutes on stage. Look at what I\\'ve done in 3.5 years.\" Adam Levy and Brajesh Upadhyay contributed to this report'"
      ]
     },
     "execution_count": 58,
     "metadata": {},
     "output_type": "execute_result"
    }
   ],
   "source": [
    "df.loc[0,\"clean_content\"]"
   ]
  },
  {
   "cell_type": "code",
   "execution_count": null,
   "metadata": {},
   "outputs": [],
   "source": []
  },
  {
   "cell_type": "code",
   "execution_count": null,
   "metadata": {},
   "outputs": [],
   "source": []
  }
 ],
 "metadata": {
  "kernelspec": {
   "display_name": "llm-showcase-FTrDvpRg-py3.12",
   "language": "python",
   "name": "python3"
  },
  "language_info": {
   "codemirror_mode": {
    "name": "ipython",
    "version": 3
   },
   "file_extension": ".py",
   "mimetype": "text/x-python",
   "name": "python",
   "nbconvert_exporter": "python",
   "pygments_lexer": "ipython3",
   "version": "3.12.4"
  }
 },
 "nbformat": 4,
 "nbformat_minor": 2
}
